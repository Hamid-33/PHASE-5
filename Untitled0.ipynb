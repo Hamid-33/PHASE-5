{
  "nbformat": 4,
  "nbformat_minor": 0,
  "metadata": {
    "colab": {
      "provenance": [],
      "authorship_tag": "ABX9TyOu02R5aJA0LnL+aXwWknIR",
      "include_colab_link": true
    },
    "kernelspec": {
      "name": "python3",
      "display_name": "Python 3"
    },
    "language_info": {
      "name": "python"
    }
  },
  "cells": [
    {
      "cell_type": "markdown",
      "metadata": {
        "id": "view-in-github",
        "colab_type": "text"
      },
      "source": [
        "<a href=\"https://colab.research.google.com/github/Hamid-33/PHASE-5/blob/main/Untitled0.ipynb\" target=\"_parent\"><img src=\"https://colab.research.google.com/assets/colab-badge.svg\" alt=\"Open In Colab\"/></a>"
      ]
    },
    {
      "cell_type": "code",
      "source": [
        "import random\n",
        "import time\n",
        "import logging\n",
        "\n",
        "# Configure logging\n",
        "logging.basicConfig(filename=\"shm_log.txt\", level=logging.INFO, format=\"%(asctime)s - %(message)s\")\n",
        "\n",
        "# Simulated sensor data generator\n",
        "def generate_sensor_data():\n",
        "    return {\n",
        "        'strain': random.uniform(0.1, 5.0),  # arbitrary unit\n",
        "        'vibration': random.uniform(0.1, 10.0),  # Hz\n",
        "        'temperature': random.uniform(15.0, 45.0)  # °C\n",
        "    }\n",
        "\n",
        "# Simulated AI model for anomaly detection\n",
        "def ai_model(sensor_data):\n",
        "    if sensor_data['strain'] > 4.0 or sensor_data['vibration'] > 8.0:\n",
        "        return \"Anomaly Detected\"\n",
        "    return \"Normal\"\n",
        "\n",
        "# EBPL rules for verifying AI output\n",
        "def ebpl_verification(sensor_data, ai_output):\n",
        "    # Rule-based validation: confirm anomaly only if multiple parameters exceed thresholds\n",
        "    if ai_output == \"Anomaly Detected\":\n",
        "        if sensor_data['strain'] > 4.0 and sensor_data['vibration'] > 8.0:\n",
        "            return True  # Confirmed anomaly\n",
        "        else:\n",
        "            return False  # False positive\n",
        "    return False\n",
        "\n",
        "# Visualization (console output for simplicity)\n",
        "def display_status(sensor_data, status):\n",
        "    print(f\"Sensor Data: {sensor_data}\")\n",
        "    print(f\"System Status: {status}\\n\")\n",
        "\n",
        "# Real-time monitoring simulation\n",
        "def monitor(duration_seconds=10, interval=1):\n",
        "    start_time = time.time()\n",
        "    while time.time() - start_time < duration_seconds:\n",
        "        data = generate_sensor_data()\n",
        "        ai_result = ai_model(data)\n",
        "        verified = ebpl_verification(data, ai_result)\n",
        "\n",
        "        status = \"ALERT: Anomaly Confirmed!\" if verified else \"All Normal\"\n",
        "        display_status(data, status)\n",
        "\n",
        "        # Log if there's an alert\n",
        "        if verified:\n",
        "            logging.info(f\"Anomaly confirmed with data: {data}\")\n",
        "        elif ai_result == \"Anomaly Detected\":\n",
        "            logging.info(f\"False positive detected by AI, EBPL blocked it. Data: {data}\")\n",
        "\n",
        "        time.sleep(interval)\n",
        "\n",
        "if __name__ == \"__main__\":\n",
        "    print(\"Starting AI-EBPL Structural Health Monitoring System...\\n\")\n",
        "    monitor(duration_seconds=30, interval=2)  # Monitor for 30 seconds"
      ],
      "metadata": {
        "colab": {
          "base_uri": "https://localhost:8080/"
        },
        "id": "ZHpfGUDyxLef",
        "outputId": "d481570b-59cc-4046-d17d-2a3406611615"
      },
      "execution_count": 2,
      "outputs": [
        {
          "output_type": "stream",
          "name": "stdout",
          "text": [
            "Starting AI-EBPL Structural Health Monitoring System...\n",
            "\n",
            "Sensor Data: {'strain': 1.2049316850233391, 'vibration': 6.6743003813695845, 'temperature': 26.538333331790746}\n",
            "System Status: All Normal\n",
            "\n",
            "Sensor Data: {'strain': 3.1186818725929104, 'vibration': 2.0681823918726345, 'temperature': 20.081330375797965}\n",
            "System Status: All Normal\n",
            "\n",
            "Sensor Data: {'strain': 4.701960714988799, 'vibration': 9.796950126401653, 'temperature': 26.947052503562922}\n",
            "System Status: ALERT: Anomaly Confirmed!\n",
            "\n",
            "Sensor Data: {'strain': 1.434582764257151, 'vibration': 6.740106235011272, 'temperature': 15.672275981092614}\n",
            "System Status: All Normal\n",
            "\n",
            "Sensor Data: {'strain': 4.722214657343426, 'vibration': 7.161693794426656, 'temperature': 44.767707272852604}\n",
            "System Status: All Normal\n",
            "\n",
            "Sensor Data: {'strain': 4.82291346182254, 'vibration': 0.15316096914622843, 'temperature': 39.41529207662032}\n",
            "System Status: All Normal\n",
            "\n",
            "Sensor Data: {'strain': 0.93248875519513, 'vibration': 4.069986838705591, 'temperature': 25.68548883634476}\n",
            "System Status: All Normal\n",
            "\n",
            "Sensor Data: {'strain': 4.1076801085023575, 'vibration': 8.651540350051299, 'temperature': 40.026751879218594}\n",
            "System Status: ALERT: Anomaly Confirmed!\n",
            "\n",
            "Sensor Data: {'strain': 0.8554468355444234, 'vibration': 7.7033082892635205, 'temperature': 25.716299459217403}\n",
            "System Status: All Normal\n",
            "\n",
            "Sensor Data: {'strain': 4.9293939376602305, 'vibration': 6.322034225159802, 'temperature': 21.765741962194063}\n",
            "System Status: All Normal\n",
            "\n",
            "Sensor Data: {'strain': 2.9606748138294785, 'vibration': 4.703182622956639, 'temperature': 17.19138204797069}\n",
            "System Status: All Normal\n",
            "\n",
            "Sensor Data: {'strain': 4.533179872227572, 'vibration': 5.673885329243467, 'temperature': 35.7809316944391}\n",
            "System Status: All Normal\n",
            "\n",
            "Sensor Data: {'strain': 2.5211787593469115, 'vibration': 2.1587823256021355, 'temperature': 42.380294618700844}\n",
            "System Status: All Normal\n",
            "\n",
            "Sensor Data: {'strain': 2.0191628208031522, 'vibration': 1.2519419426963374, 'temperature': 25.183141887066803}\n",
            "System Status: All Normal\n",
            "\n",
            "Sensor Data: {'strain': 2.1799630651212656, 'vibration': 5.673805901124203, 'temperature': 21.686255321931473}\n",
            "System Status: All Normal\n",
            "\n"
          ]
        }
      ]
    }
  ]
}